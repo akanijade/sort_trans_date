{
  "metadata": {
    "language_info": {
      "codemirror_mode": {
        "name": "python",
        "version": 3
      },
      "file_extension": ".py",
      "mimetype": "text/x-python",
      "name": "python",
      "nbconvert_exporter": "python",
      "pygments_lexer": "ipython3",
      "version": "3.8"
    },
    "kernelspec": {
      "name": "python",
      "display_name": "Python (Pyodide)",
      "language": "python"
    }
  },
  "nbformat_minor": 4,
  "nbformat": 4,
  "cells": [
    {
      "cell_type": "code",
      "source": "#import libraries\nimport pandas as pd\nimport numpy as np",
      "metadata": {
        "trusted": true
      },
      "execution_count": 2,
      "outputs": []
    },
    {
      "cell_type": "code",
      "source": "# open csv\ndf = pd.read_csv('bby_sell.csv')\ndf.head()",
      "metadata": {
        "trusted": true
      },
      "execution_count": 3,
      "outputs": [
        {
          "execution_count": 3,
          "output_type": "execute_result",
          "data": {
            "text/plain": "  Trans_Date   Ins_ID\n0  8/11/2003  1006394\n1  8/13/2003  1201532\n2  8/22/2003  1191190\n3  9/10/2003  1006394\n4  10/7/2003  1193651",
            "text/html": "<div>\n<style scoped>\n    .dataframe tbody tr th:only-of-type {\n        vertical-align: middle;\n    }\n\n    .dataframe tbody tr th {\n        vertical-align: top;\n    }\n\n    .dataframe thead th {\n        text-align: right;\n    }\n</style>\n<table border=\"1\" class=\"dataframe\">\n  <thead>\n    <tr style=\"text-align: right;\">\n      <th></th>\n      <th>Trans_Date</th>\n      <th>Ins_ID</th>\n    </tr>\n  </thead>\n  <tbody>\n    <tr>\n      <th>0</th>\n      <td>8/11/2003</td>\n      <td>1006394</td>\n    </tr>\n    <tr>\n      <th>1</th>\n      <td>8/13/2003</td>\n      <td>1201532</td>\n    </tr>\n    <tr>\n      <th>2</th>\n      <td>8/22/2003</td>\n      <td>1191190</td>\n    </tr>\n    <tr>\n      <th>3</th>\n      <td>9/10/2003</td>\n      <td>1006394</td>\n    </tr>\n    <tr>\n      <th>4</th>\n      <td>10/7/2003</td>\n      <td>1193651</td>\n    </tr>\n  </tbody>\n</table>\n</div>"
          },
          "metadata": {}
        }
      ]
    },
    {
      "cell_type": "code",
      "source": "# convert transaction date to datetime in pandas\ndf['Trans_Date']=pd.to_datetime(df['Trans_Date'])\ndf.head(10)",
      "metadata": {
        "trusted": true
      },
      "execution_count": 4,
      "outputs": [
        {
          "name": "stdout",
          "text": "397\n",
          "output_type": "stream"
        }
      ]
    },
    {
      "cell_type": "code",
      "source": "# \ndf['nth_bool']= df.sort_values(by=['Ins_ID', 'Trans_Date']).groupby('Ins_ID')['Trans_Date'].diff().lt('10d')\ndf['index']=df.reset_index().index+1\ndf['index_1']= df.groupby('Ins_ID')['index'].shift(fill_value=0)\ndf.head(len(df))",
      "metadata": {
        "trusted": true
      },
      "execution_count": 5,
      "outputs": [
        {
          "execution_count": 5,
          "output_type": "execute_result",
          "data": {
            "text/plain": "    Trans_Date   Ins_ID  nth_bool  index  index_1\n0   2003-08-11  1006394     False      1        0\n1   2003-08-13  1201532     False      2        0\n2   2003-08-22  1191190     False      3        0\n3   2003-09-10  1006394     False      4        1\n4   2003-10-07  1193651     False      5        0\n..         ...      ...       ...    ...      ...\n392 2023-06-01  1872242     False    393      382\n393 2023-06-01  1872045     False    394      388\n394 2023-06-01  1639859     False    395      387\n395 2023-06-27  1006394     False    396      378\n396 2023-07-25  1006394     False    397      396\n\n[397 rows x 5 columns]",
            "text/html": "<div>\n<style scoped>\n    .dataframe tbody tr th:only-of-type {\n        vertical-align: middle;\n    }\n\n    .dataframe tbody tr th {\n        vertical-align: top;\n    }\n\n    .dataframe thead th {\n        text-align: right;\n    }\n</style>\n<table border=\"1\" class=\"dataframe\">\n  <thead>\n    <tr style=\"text-align: right;\">\n      <th></th>\n      <th>Trans_Date</th>\n      <th>Ins_ID</th>\n      <th>nth_bool</th>\n      <th>index</th>\n      <th>index_1</th>\n    </tr>\n  </thead>\n  <tbody>\n    <tr>\n      <th>0</th>\n      <td>2003-08-11</td>\n      <td>1006394</td>\n      <td>False</td>\n      <td>1</td>\n      <td>0</td>\n    </tr>\n    <tr>\n      <th>1</th>\n      <td>2003-08-13</td>\n      <td>1201532</td>\n      <td>False</td>\n      <td>2</td>\n      <td>0</td>\n    </tr>\n    <tr>\n      <th>2</th>\n      <td>2003-08-22</td>\n      <td>1191190</td>\n      <td>False</td>\n      <td>3</td>\n      <td>0</td>\n    </tr>\n    <tr>\n      <th>3</th>\n      <td>2003-09-10</td>\n      <td>1006394</td>\n      <td>False</td>\n      <td>4</td>\n      <td>1</td>\n    </tr>\n    <tr>\n      <th>4</th>\n      <td>2003-10-07</td>\n      <td>1193651</td>\n      <td>False</td>\n      <td>5</td>\n      <td>0</td>\n    </tr>\n    <tr>\n      <th>...</th>\n      <td>...</td>\n      <td>...</td>\n      <td>...</td>\n      <td>...</td>\n      <td>...</td>\n    </tr>\n    <tr>\n      <th>392</th>\n      <td>2023-06-01</td>\n      <td>1872242</td>\n      <td>False</td>\n      <td>393</td>\n      <td>382</td>\n    </tr>\n    <tr>\n      <th>393</th>\n      <td>2023-06-01</td>\n      <td>1872045</td>\n      <td>False</td>\n      <td>394</td>\n      <td>388</td>\n    </tr>\n    <tr>\n      <th>394</th>\n      <td>2023-06-01</td>\n      <td>1639859</td>\n      <td>False</td>\n      <td>395</td>\n      <td>387</td>\n    </tr>\n    <tr>\n      <th>395</th>\n      <td>2023-06-27</td>\n      <td>1006394</td>\n      <td>False</td>\n      <td>396</td>\n      <td>378</td>\n    </tr>\n    <tr>\n      <th>396</th>\n      <td>2023-07-25</td>\n      <td>1006394</td>\n      <td>False</td>\n      <td>397</td>\n      <td>396</td>\n    </tr>\n  </tbody>\n</table>\n<p>397 rows × 5 columns</p>\n</div>"
          },
          "metadata": {}
        }
      ]
    },
    {
      "cell_type": "code",
      "source": "df.to_csv('index_bby_sell.csv')",
      "metadata": {
        "trusted": true
      },
      "execution_count": 64,
      "outputs": []
    },
    {
      "cell_type": "code",
      "source": "",
      "metadata": {},
      "execution_count": null,
      "outputs": []
    }
  ]
}